{
 "cells": [
  {
   "cell_type": "markdown",
   "id": "c8a3ab0c",
   "metadata": {},
   "source": [
    "> Implement Linear Regression by PyTorch as much as possible."
   ]
  },
  {
   "cell_type": "code",
   "execution_count": 1,
   "id": "5b3497d6",
   "metadata": {},
   "outputs": [],
   "source": [
    "import os\n",
    "import pickle\n",
    "import torch\n",
    "\n",
    "from torch.utils import data\n",
    "from torch import nn\n",
    "\n",
    "from typing import Dict, Tuple, List, Iterator, Any"
   ]
  },
  {
   "cell_type": "markdown",
   "id": "f13a322a",
   "metadata": {},
   "source": [
    "# Load Data"
   ]
  },
  {
   "cell_type": "code",
   "execution_count": 2,
   "id": "e28a8bb0",
   "metadata": {},
   "outputs": [
    {
     "name": "stdout",
     "output_type": "stream",
     "text": [
      "dict_keys(['true_w', 'true_b', 'features', 'labels'])\n",
      "{'true_w': <class 'torch.Tensor'>, 'true_b': <class 'torch.Tensor'>, 'features': <class 'torch.Tensor'>, 'labels': <class 'torch.Tensor'>}\n"
     ]
    }
   ],
   "source": [
    "linreg_data_path: str = os.path.join('..', '..', 'data', 'linreg_data', 'linreg_data.pkl')\n",
    "\n",
    "with open(linreg_data_path, 'rb') as f:\n",
    "    pkl_data: Dict[str, torch.Tensor] = pickle.load(f)\n",
    "\n",
    "print(pkl_data.keys())\n",
    "print({key:value_type for key, value_type in zip(pkl_data.keys(), map(type, pkl_data.values()))})"
   ]
  },
  {
   "cell_type": "code",
   "execution_count": 3,
   "id": "12acfc80",
   "metadata": {},
   "outputs": [],
   "source": [
    "true_w, true_b = pkl_data['true_w'], pkl_data['true_b']\n",
    "features, labels = pkl_data['features'], pkl_data['labels']"
   ]
  },
  {
   "cell_type": "code",
   "execution_count": 4,
   "id": "6ebe839e",
   "metadata": {},
   "outputs": [],
   "source": [
    "def build_dataloader(tensor_dataset: Tuple[torch.Tensor], batch_size: int, is_train: bool = True) -> Any:\n",
    "    \"\"\"Build PyTorch DataLoader.\"\"\"\n",
    "    dataset: data.TensorDataset = data.TensorDataset(*tensor_dataset)\n",
    "    dataloader: data.DataLoader = data.DataLoader(dataset, batch_size=batch_size, shuffle=is_train)\n",
    "    return dataloader"
   ]
  },
  {
   "cell_type": "markdown",
   "id": "5594ebde",
   "metadata": {},
   "source": [
    "# Build Model Architecture"
   ]
  },
  {
   "cell_type": "code",
   "execution_count": 5,
   "id": "5b88976c",
   "metadata": {},
   "outputs": [],
   "source": [
    "# Build linear regression model\n",
    "linreg: nn.Sequential = nn.Sequential(nn.Linear(2, 1))"
   ]
  },
  {
   "cell_type": "code",
   "execution_count": 6,
   "id": "a032905f",
   "metadata": {},
   "outputs": [
    {
     "data": {
      "text/plain": [
       "tensor([0.])"
      ]
     },
     "execution_count": 6,
     "metadata": {},
     "output_type": "execute_result"
    }
   ],
   "source": [
    "# Initialize model parameters\n",
    "linreg[0].weight.data.normal_(mean=0, std=1e-2)\n",
    "linreg[0].bias.data.fill_(0)"
   ]
  },
  {
   "cell_type": "markdown",
   "id": "f5f03abb",
   "metadata": {},
   "source": [
    "# Train Model"
   ]
  },
  {
   "cell_type": "code",
   "execution_count": 7,
   "id": "a0938e79",
   "metadata": {},
   "outputs": [],
   "source": [
    "# Use MSE as the loss function\n",
    "mse: Any = nn.MSELoss(reduction='mean')"
   ]
  },
  {
   "cell_type": "code",
   "execution_count": 8,
   "id": "efa23e49",
   "metadata": {},
   "outputs": [],
   "source": [
    "# Use sgd as the optimizer\n",
    "sgd: Any = torch.optim.SGD"
   ]
  },
  {
   "cell_type": "code",
   "execution_count": 9,
   "id": "ee989e4f",
   "metadata": {},
   "outputs": [],
   "source": [
    "# Setup hyper-parameters\n",
    "batch_size: int = 10\n",
    "lr: float = 3e-2\n",
    "num_epochs: int = 5\n",
    "net: Any = linreg\n",
    "loss: Any = mse\n",
    "trainer: Any = sgd(net.parameters(), lr=lr)"
   ]
  },
  {
   "cell_type": "code",
   "execution_count": null,
   "id": "effbbd1e",
   "metadata": {},
   "outputs": [
    {
     "name": "stdout",
     "output_type": "stream",
     "text": [
      "epoch 1, loss 0.000235\n",
      "epoch 2, loss 0.000097\n",
      "epoch 3, loss 0.000097\n",
      "epoch 4, loss 0.000097\n",
      "epoch 5, loss 0.000099\n"
     ]
    }
   ],
   "source": [
    "# Build model training procedure\n",
    "for epoch in range(num_epochs):\n",
    "    for X, y in build_dataloader((features, labels), batch_size):\n",
    "        l: float = loss(net(X), y)\n",
    "        trainer.zero_grad()\n",
    "        l.backward()\n",
    "        trainer.step()\n",
    "    with torch.no_grad():\n",
    "        train_loss: float = loss(net(features), labels)\n",
    "        print(f'epoch {epoch + 1}, loss {float(train_loss):f}')"
   ]
  },
  {
   "cell_type": "markdown",
   "id": "42baf779",
   "metadata": {},
   "source": [
    "# Verify Training Result"
   ]
  },
  {
   "cell_type": "code",
   "execution_count": 11,
   "id": "55707218",
   "metadata": {},
   "outputs": [],
   "source": [
    "w: torch.Tensor = net[0].weight.data\n",
    "b: torch.Tensor = net[0].bias.data"
   ]
  },
  {
   "cell_type": "code",
   "execution_count": 12,
   "id": "6c5f7c23",
   "metadata": {},
   "outputs": [
    {
     "name": "stdout",
     "output_type": "stream",
     "text": [
      "w estimated: tensor([ 2.0000, -3.4009]), true w: tensor([ 2.0000, -3.4000])\n",
      "b estimated: tensor([4.1996]), true b: tensor([4.2000])\n",
      "w and true_w difference: tensor([3.4094e-05, 9.4533e-04])\n",
      "b and true_b difference: tensor([0.0004])\n"
     ]
    }
   ],
   "source": [
    "print(f\"w estimated: {w.reshape(true_w.shape)}, true w: {true_w}\")\n",
    "print(f\"b estimated: {b}, true b: {true_b}\")\n",
    "\n",
    "print(f\"w and true_w difference: {torch.abs(true_w - w.reshape(true_w.shape))}\")\n",
    "print(f\"b and true_b difference: {torch.abs(true_b - b)}\")"
   ]
  }
 ],
 "metadata": {
  "kernelspec": {
   "display_name": ".venv",
   "language": "python",
   "name": "python3"
  },
  "language_info": {
   "codemirror_mode": {
    "name": "ipython",
    "version": 3
   },
   "file_extension": ".py",
   "mimetype": "text/x-python",
   "name": "python",
   "nbconvert_exporter": "python",
   "pygments_lexer": "ipython3",
   "version": "3.9.23"
  }
 },
 "nbformat": 4,
 "nbformat_minor": 5
}
